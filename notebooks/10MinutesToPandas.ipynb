{
 "cells": [
  {
   "cell_type": "markdown",
   "metadata": {},
   "source": [
    "# 10 Minutes to pandas\n",
    "https://pandas.pydata.org/pandas-docs/stable/10min.html\n",
    "\n",
    "This is a short introduction to pandas, geared mainly for new users. "
   ]
  },
  {
   "cell_type": "code",
   "execution_count": 1,
   "metadata": {
    "collapsed": true
   },
   "outputs": [],
   "source": [
    "import pandas as pd\n",
    "import numpy as np\n",
    "import matplotlib.pyplot as plt"
   ]
  },
  {
   "cell_type": "markdown",
   "metadata": {},
   "source": [
    "## Object Creation"
   ]
  },
  {
   "cell_type": "code",
   "execution_count": 2,
   "metadata": {},
   "outputs": [
    {
     "data": {
      "text/plain": [
       "0    1.0\n",
       "1    3.0\n",
       "2    5.0\n",
       "3    NaN\n",
       "4    6.0\n",
       "5    8.0\n",
       "dtype: float64"
      ]
     },
     "execution_count": 2,
     "metadata": {},
     "output_type": "execute_result"
    }
   ],
   "source": [
    "\n",
    "s = pd.Series([1,3,5,np.nan,6,8])\n",
    "s"
   ]
  },
  {
   "cell_type": "code",
   "execution_count": 3,
   "metadata": {},
   "outputs": [
    {
     "data": {
      "text/plain": [
       "DatetimeIndex(['2013-01-01', '2013-01-02', '2013-01-03', '2013-01-04',\n",
       "               '2013-01-05', '2013-01-06'],\n",
       "              dtype='datetime64[ns]', freq='D')"
      ]
     },
     "execution_count": 3,
     "metadata": {},
     "output_type": "execute_result"
    }
   ],
   "source": [
    "dates = pd.date_range('20130101', periods=6)\n",
    "dates"
   ]
  },
  {
   "cell_type": "code",
   "execution_count": 4,
   "metadata": {},
   "outputs": [
    {
     "data": {
      "text/html": [
       "<div>\n",
       "<table border=\"1\" class=\"dataframe\">\n",
       "  <thead>\n",
       "    <tr style=\"text-align: right;\">\n",
       "      <th></th>\n",
       "      <th>A</th>\n",
       "      <th>B</th>\n",
       "      <th>C</th>\n",
       "      <th>D</th>\n",
       "    </tr>\n",
       "  </thead>\n",
       "  <tbody>\n",
       "    <tr>\n",
       "      <th>2013-01-01</th>\n",
       "      <td>-0.402924</td>\n",
       "      <td>-0.389868</td>\n",
       "      <td>-0.638973</td>\n",
       "      <td>-0.318237</td>\n",
       "    </tr>\n",
       "    <tr>\n",
       "      <th>2013-01-02</th>\n",
       "      <td>0.176802</td>\n",
       "      <td>0.474240</td>\n",
       "      <td>1.806408</td>\n",
       "      <td>1.596370</td>\n",
       "    </tr>\n",
       "    <tr>\n",
       "      <th>2013-01-03</th>\n",
       "      <td>0.912955</td>\n",
       "      <td>-0.244751</td>\n",
       "      <td>0.233110</td>\n",
       "      <td>-0.127799</td>\n",
       "    </tr>\n",
       "    <tr>\n",
       "      <th>2013-01-04</th>\n",
       "      <td>-0.704927</td>\n",
       "      <td>2.718679</td>\n",
       "      <td>2.331628</td>\n",
       "      <td>0.920995</td>\n",
       "    </tr>\n",
       "    <tr>\n",
       "      <th>2013-01-05</th>\n",
       "      <td>-3.151424</td>\n",
       "      <td>0.482281</td>\n",
       "      <td>1.022162</td>\n",
       "      <td>-0.705437</td>\n",
       "    </tr>\n",
       "    <tr>\n",
       "      <th>2013-01-06</th>\n",
       "      <td>-0.535173</td>\n",
       "      <td>0.188891</td>\n",
       "      <td>0.358509</td>\n",
       "      <td>0.164380</td>\n",
       "    </tr>\n",
       "  </tbody>\n",
       "</table>\n",
       "</div>"
      ],
      "text/plain": [
       "                   A         B         C         D\n",
       "2013-01-01 -0.402924 -0.389868 -0.638973 -0.318237\n",
       "2013-01-02  0.176802  0.474240  1.806408  1.596370\n",
       "2013-01-03  0.912955 -0.244751  0.233110 -0.127799\n",
       "2013-01-04 -0.704927  2.718679  2.331628  0.920995\n",
       "2013-01-05 -3.151424  0.482281  1.022162 -0.705437\n",
       "2013-01-06 -0.535173  0.188891  0.358509  0.164380"
      ]
     },
     "execution_count": 4,
     "metadata": {},
     "output_type": "execute_result"
    }
   ],
   "source": [
    "df = pd.DataFrame(np.random.randn(6,4), index=dates, columns=list('ABCD'))\n",
    "df"
   ]
  },
  {
   "cell_type": "code",
   "execution_count": 6,
   "metadata": {},
   "outputs": [
    {
     "data": {
      "text/html": [
       "<div>\n",
       "<table border=\"1\" class=\"dataframe\">\n",
       "  <thead>\n",
       "    <tr style=\"text-align: right;\">\n",
       "      <th></th>\n",
       "      <th>A</th>\n",
       "      <th>B</th>\n",
       "      <th>C</th>\n",
       "      <th>D</th>\n",
       "      <th>E</th>\n",
       "      <th>F</th>\n",
       "    </tr>\n",
       "  </thead>\n",
       "  <tbody>\n",
       "    <tr>\n",
       "      <th>0</th>\n",
       "      <td>1.0</td>\n",
       "      <td>2013-01-02</td>\n",
       "      <td>1.0</td>\n",
       "      <td>3</td>\n",
       "      <td>test</td>\n",
       "      <td>foo</td>\n",
       "    </tr>\n",
       "    <tr>\n",
       "      <th>1</th>\n",
       "      <td>1.0</td>\n",
       "      <td>2013-01-02</td>\n",
       "      <td>1.0</td>\n",
       "      <td>3</td>\n",
       "      <td>train</td>\n",
       "      <td>foo</td>\n",
       "    </tr>\n",
       "    <tr>\n",
       "      <th>2</th>\n",
       "      <td>1.0</td>\n",
       "      <td>2013-01-02</td>\n",
       "      <td>1.0</td>\n",
       "      <td>3</td>\n",
       "      <td>test</td>\n",
       "      <td>foo</td>\n",
       "    </tr>\n",
       "    <tr>\n",
       "      <th>3</th>\n",
       "      <td>1.0</td>\n",
       "      <td>2013-01-02</td>\n",
       "      <td>1.0</td>\n",
       "      <td>3</td>\n",
       "      <td>train</td>\n",
       "      <td>foo</td>\n",
       "    </tr>\n",
       "  </tbody>\n",
       "</table>\n",
       "</div>"
      ],
      "text/plain": [
       "     A          B    C  D      E    F\n",
       "0  1.0 2013-01-02  1.0  3   test  foo\n",
       "1  1.0 2013-01-02  1.0  3  train  foo\n",
       "2  1.0 2013-01-02  1.0  3   test  foo\n",
       "3  1.0 2013-01-02  1.0  3  train  foo"
      ]
     },
     "execution_count": 6,
     "metadata": {},
     "output_type": "execute_result"
    }
   ],
   "source": [
    "df2 = pd.DataFrame({ 'A' : 1.,\n",
    "    'B' : pd.Timestamp('20130102'),\n",
    "    'C' : pd.Series(1,index=list(range(4)),dtype='float32'),\n",
    "    'D' : np.array([3] * 4,dtype='int32'),\n",
    "    'E' : pd.Categorical([\"test\",\"train\",\"test\",\"train\"]),\n",
    "    'F' : 'foo' })\n",
    "df2"
   ]
  },
  {
   "cell_type": "code",
   "execution_count": 7,
   "metadata": {},
   "outputs": [
    {
     "data": {
      "text/plain": [
       "A           float64\n",
       "B    datetime64[ns]\n",
       "C           float32\n",
       "D             int32\n",
       "E          category\n",
       "F            object\n",
       "dtype: object"
      ]
     },
     "execution_count": 7,
     "metadata": {},
     "output_type": "execute_result"
    }
   ],
   "source": [
    "df2.dtypes"
   ]
  },
  {
   "cell_type": "markdown",
   "metadata": {},
   "source": [
    " ## Viewing Data"
   ]
  },
  {
   "cell_type": "code",
   "execution_count": 9,
   "metadata": {},
   "outputs": [
    {
     "data": {
      "text/html": [
       "<div>\n",
       "<table border=\"1\" class=\"dataframe\">\n",
       "  <thead>\n",
       "    <tr style=\"text-align: right;\">\n",
       "      <th></th>\n",
       "      <th>A</th>\n",
       "      <th>B</th>\n",
       "      <th>C</th>\n",
       "      <th>D</th>\n",
       "    </tr>\n",
       "  </thead>\n",
       "  <tbody>\n",
       "    <tr>\n",
       "      <th>2013-01-01</th>\n",
       "      <td>-0.402924</td>\n",
       "      <td>-0.389868</td>\n",
       "      <td>-0.638973</td>\n",
       "      <td>-0.318237</td>\n",
       "    </tr>\n",
       "    <tr>\n",
       "      <th>2013-01-02</th>\n",
       "      <td>0.176802</td>\n",
       "      <td>0.474240</td>\n",
       "      <td>1.806408</td>\n",
       "      <td>1.596370</td>\n",
       "    </tr>\n",
       "    <tr>\n",
       "      <th>2013-01-03</th>\n",
       "      <td>0.912955</td>\n",
       "      <td>-0.244751</td>\n",
       "      <td>0.233110</td>\n",
       "      <td>-0.127799</td>\n",
       "    </tr>\n",
       "    <tr>\n",
       "      <th>2013-01-04</th>\n",
       "      <td>-0.704927</td>\n",
       "      <td>2.718679</td>\n",
       "      <td>2.331628</td>\n",
       "      <td>0.920995</td>\n",
       "    </tr>\n",
       "    <tr>\n",
       "      <th>2013-01-05</th>\n",
       "      <td>-3.151424</td>\n",
       "      <td>0.482281</td>\n",
       "      <td>1.022162</td>\n",
       "      <td>-0.705437</td>\n",
       "    </tr>\n",
       "  </tbody>\n",
       "</table>\n",
       "</div>"
      ],
      "text/plain": [
       "                   A         B         C         D\n",
       "2013-01-01 -0.402924 -0.389868 -0.638973 -0.318237\n",
       "2013-01-02  0.176802  0.474240  1.806408  1.596370\n",
       "2013-01-03  0.912955 -0.244751  0.233110 -0.127799\n",
       "2013-01-04 -0.704927  2.718679  2.331628  0.920995\n",
       "2013-01-05 -3.151424  0.482281  1.022162 -0.705437"
      ]
     },
     "execution_count": 9,
     "metadata": {},
     "output_type": "execute_result"
    }
   ],
   "source": [
    "df.head()"
   ]
  },
  {
   "cell_type": "code",
   "execution_count": 10,
   "metadata": {},
   "outputs": [
    {
     "data": {
      "text/html": [
       "<div>\n",
       "<table border=\"1\" class=\"dataframe\">\n",
       "  <thead>\n",
       "    <tr style=\"text-align: right;\">\n",
       "      <th></th>\n",
       "      <th>A</th>\n",
       "      <th>B</th>\n",
       "      <th>C</th>\n",
       "      <th>D</th>\n",
       "    </tr>\n",
       "  </thead>\n",
       "  <tbody>\n",
       "    <tr>\n",
       "      <th>2013-01-04</th>\n",
       "      <td>-0.704927</td>\n",
       "      <td>2.718679</td>\n",
       "      <td>2.331628</td>\n",
       "      <td>0.920995</td>\n",
       "    </tr>\n",
       "    <tr>\n",
       "      <th>2013-01-05</th>\n",
       "      <td>-3.151424</td>\n",
       "      <td>0.482281</td>\n",
       "      <td>1.022162</td>\n",
       "      <td>-0.705437</td>\n",
       "    </tr>\n",
       "    <tr>\n",
       "      <th>2013-01-06</th>\n",
       "      <td>-0.535173</td>\n",
       "      <td>0.188891</td>\n",
       "      <td>0.358509</td>\n",
       "      <td>0.164380</td>\n",
       "    </tr>\n",
       "  </tbody>\n",
       "</table>\n",
       "</div>"
      ],
      "text/plain": [
       "                   A         B         C         D\n",
       "2013-01-04 -0.704927  2.718679  2.331628  0.920995\n",
       "2013-01-05 -3.151424  0.482281  1.022162 -0.705437\n",
       "2013-01-06 -0.535173  0.188891  0.358509  0.164380"
      ]
     },
     "execution_count": 10,
     "metadata": {},
     "output_type": "execute_result"
    }
   ],
   "source": [
    "df.tail(3)"
   ]
  },
  {
   "cell_type": "code",
   "execution_count": 11,
   "metadata": {},
   "outputs": [
    {
     "data": {
      "text/plain": [
       "DatetimeIndex(['2013-01-01', '2013-01-02', '2013-01-03', '2013-01-04',\n",
       "               '2013-01-05', '2013-01-06'],\n",
       "              dtype='datetime64[ns]', freq='D')"
      ]
     },
     "execution_count": 11,
     "metadata": {},
     "output_type": "execute_result"
    }
   ],
   "source": [
    "df.index"
   ]
  },
  {
   "cell_type": "code",
   "execution_count": 12,
   "metadata": {},
   "outputs": [
    {
     "data": {
      "text/plain": [
       "Index(['A', 'B', 'C', 'D'], dtype='object')"
      ]
     },
     "execution_count": 12,
     "metadata": {},
     "output_type": "execute_result"
    }
   ],
   "source": [
    "df.columns"
   ]
  },
  {
   "cell_type": "code",
   "execution_count": 13,
   "metadata": {},
   "outputs": [
    {
     "data": {
      "text/plain": [
       "array([[-0.40292395, -0.3898679 , -0.63897279, -0.31823732],\n",
       "       [ 0.1768022 ,  0.47423992,  1.80640757,  1.59637007],\n",
       "       [ 0.91295536, -0.2447514 ,  0.23311027, -0.12779949],\n",
       "       [-0.7049267 ,  2.7186793 ,  2.33162825,  0.92099519],\n",
       "       [-3.15142373,  0.48228058,  1.02216156, -0.70543675],\n",
       "       [-0.53517258,  0.18889122,  0.35850931,  0.16437989]])"
      ]
     },
     "execution_count": 13,
     "metadata": {},
     "output_type": "execute_result"
    }
   ],
   "source": [
    "df.values"
   ]
  },
  {
   "cell_type": "code",
   "execution_count": 14,
   "metadata": {},
   "outputs": [
    {
     "data": {
      "text/html": [
       "<div>\n",
       "<table border=\"1\" class=\"dataframe\">\n",
       "  <thead>\n",
       "    <tr style=\"text-align: right;\">\n",
       "      <th></th>\n",
       "      <th>A</th>\n",
       "      <th>B</th>\n",
       "      <th>C</th>\n",
       "      <th>D</th>\n",
       "    </tr>\n",
       "  </thead>\n",
       "  <tbody>\n",
       "    <tr>\n",
       "      <th>count</th>\n",
       "      <td>6.000000</td>\n",
       "      <td>6.000000</td>\n",
       "      <td>6.000000</td>\n",
       "      <td>6.000000</td>\n",
       "    </tr>\n",
       "    <tr>\n",
       "      <th>mean</th>\n",
       "      <td>-0.617448</td>\n",
       "      <td>0.538245</td>\n",
       "      <td>0.852141</td>\n",
       "      <td>0.255045</td>\n",
       "    </tr>\n",
       "    <tr>\n",
       "      <th>std</th>\n",
       "      <td>1.375096</td>\n",
       "      <td>1.127657</td>\n",
       "      <td>1.093500</td>\n",
       "      <td>0.854238</td>\n",
       "    </tr>\n",
       "    <tr>\n",
       "      <th>min</th>\n",
       "      <td>-3.151424</td>\n",
       "      <td>-0.389868</td>\n",
       "      <td>-0.638973</td>\n",
       "      <td>-0.705437</td>\n",
       "    </tr>\n",
       "    <tr>\n",
       "      <th>25%</th>\n",
       "      <td>-0.662488</td>\n",
       "      <td>-0.136341</td>\n",
       "      <td>0.264460</td>\n",
       "      <td>-0.270628</td>\n",
       "    </tr>\n",
       "    <tr>\n",
       "      <th>50%</th>\n",
       "      <td>-0.469048</td>\n",
       "      <td>0.331566</td>\n",
       "      <td>0.690335</td>\n",
       "      <td>0.018290</td>\n",
       "    </tr>\n",
       "    <tr>\n",
       "      <th>75%</th>\n",
       "      <td>0.031871</td>\n",
       "      <td>0.480270</td>\n",
       "      <td>1.610346</td>\n",
       "      <td>0.731841</td>\n",
       "    </tr>\n",
       "    <tr>\n",
       "      <th>max</th>\n",
       "      <td>0.912955</td>\n",
       "      <td>2.718679</td>\n",
       "      <td>2.331628</td>\n",
       "      <td>1.596370</td>\n",
       "    </tr>\n",
       "  </tbody>\n",
       "</table>\n",
       "</div>"
      ],
      "text/plain": [
       "              A         B         C         D\n",
       "count  6.000000  6.000000  6.000000  6.000000\n",
       "mean  -0.617448  0.538245  0.852141  0.255045\n",
       "std    1.375096  1.127657  1.093500  0.854238\n",
       "min   -3.151424 -0.389868 -0.638973 -0.705437\n",
       "25%   -0.662488 -0.136341  0.264460 -0.270628\n",
       "50%   -0.469048  0.331566  0.690335  0.018290\n",
       "75%    0.031871  0.480270  1.610346  0.731841\n",
       "max    0.912955  2.718679  2.331628  1.596370"
      ]
     },
     "execution_count": 14,
     "metadata": {},
     "output_type": "execute_result"
    }
   ],
   "source": [
    "df.describe()"
   ]
  },
  {
   "cell_type": "code",
   "execution_count": 15,
   "metadata": {},
   "outputs": [
    {
     "data": {
      "text/html": [
       "<div>\n",
       "<table border=\"1\" class=\"dataframe\">\n",
       "  <thead>\n",
       "    <tr style=\"text-align: right;\">\n",
       "      <th></th>\n",
       "      <th>2013-01-01 00:00:00</th>\n",
       "      <th>2013-01-02 00:00:00</th>\n",
       "      <th>2013-01-03 00:00:00</th>\n",
       "      <th>2013-01-04 00:00:00</th>\n",
       "      <th>2013-01-05 00:00:00</th>\n",
       "      <th>2013-01-06 00:00:00</th>\n",
       "    </tr>\n",
       "  </thead>\n",
       "  <tbody>\n",
       "    <tr>\n",
       "      <th>A</th>\n",
       "      <td>-0.402924</td>\n",
       "      <td>0.176802</td>\n",
       "      <td>0.912955</td>\n",
       "      <td>-0.704927</td>\n",
       "      <td>-3.151424</td>\n",
       "      <td>-0.535173</td>\n",
       "    </tr>\n",
       "    <tr>\n",
       "      <th>B</th>\n",
       "      <td>-0.389868</td>\n",
       "      <td>0.474240</td>\n",
       "      <td>-0.244751</td>\n",
       "      <td>2.718679</td>\n",
       "      <td>0.482281</td>\n",
       "      <td>0.188891</td>\n",
       "    </tr>\n",
       "    <tr>\n",
       "      <th>C</th>\n",
       "      <td>-0.638973</td>\n",
       "      <td>1.806408</td>\n",
       "      <td>0.233110</td>\n",
       "      <td>2.331628</td>\n",
       "      <td>1.022162</td>\n",
       "      <td>0.358509</td>\n",
       "    </tr>\n",
       "    <tr>\n",
       "      <th>D</th>\n",
       "      <td>-0.318237</td>\n",
       "      <td>1.596370</td>\n",
       "      <td>-0.127799</td>\n",
       "      <td>0.920995</td>\n",
       "      <td>-0.705437</td>\n",
       "      <td>0.164380</td>\n",
       "    </tr>\n",
       "  </tbody>\n",
       "</table>\n",
       "</div>"
      ],
      "text/plain": [
       "   2013-01-01  2013-01-02  2013-01-03  2013-01-04  2013-01-05  2013-01-06\n",
       "A   -0.402924    0.176802    0.912955   -0.704927   -3.151424   -0.535173\n",
       "B   -0.389868    0.474240   -0.244751    2.718679    0.482281    0.188891\n",
       "C   -0.638973    1.806408    0.233110    2.331628    1.022162    0.358509\n",
       "D   -0.318237    1.596370   -0.127799    0.920995   -0.705437    0.164380"
      ]
     },
     "execution_count": 15,
     "metadata": {},
     "output_type": "execute_result"
    }
   ],
   "source": [
    "#Transposing your data\n",
    "df.T"
   ]
  },
  {
   "cell_type": "code",
   "execution_count": 18,
   "metadata": {},
   "outputs": [
    {
     "data": {
      "text/html": [
       "<div>\n",
       "<table border=\"1\" class=\"dataframe\">\n",
       "  <thead>\n",
       "    <tr style=\"text-align: right;\">\n",
       "      <th></th>\n",
       "      <th>D</th>\n",
       "      <th>C</th>\n",
       "      <th>B</th>\n",
       "      <th>A</th>\n",
       "    </tr>\n",
       "  </thead>\n",
       "  <tbody>\n",
       "    <tr>\n",
       "      <th>2013-01-01</th>\n",
       "      <td>-0.318237</td>\n",
       "      <td>-0.638973</td>\n",
       "      <td>-0.389868</td>\n",
       "      <td>-0.402924</td>\n",
       "    </tr>\n",
       "    <tr>\n",
       "      <th>2013-01-02</th>\n",
       "      <td>1.596370</td>\n",
       "      <td>1.806408</td>\n",
       "      <td>0.474240</td>\n",
       "      <td>0.176802</td>\n",
       "    </tr>\n",
       "    <tr>\n",
       "      <th>2013-01-03</th>\n",
       "      <td>-0.127799</td>\n",
       "      <td>0.233110</td>\n",
       "      <td>-0.244751</td>\n",
       "      <td>0.912955</td>\n",
       "    </tr>\n",
       "    <tr>\n",
       "      <th>2013-01-04</th>\n",
       "      <td>0.920995</td>\n",
       "      <td>2.331628</td>\n",
       "      <td>2.718679</td>\n",
       "      <td>-0.704927</td>\n",
       "    </tr>\n",
       "    <tr>\n",
       "      <th>2013-01-05</th>\n",
       "      <td>-0.705437</td>\n",
       "      <td>1.022162</td>\n",
       "      <td>0.482281</td>\n",
       "      <td>-3.151424</td>\n",
       "    </tr>\n",
       "    <tr>\n",
       "      <th>2013-01-06</th>\n",
       "      <td>0.164380</td>\n",
       "      <td>0.358509</td>\n",
       "      <td>0.188891</td>\n",
       "      <td>-0.535173</td>\n",
       "    </tr>\n",
       "  </tbody>\n",
       "</table>\n",
       "</div>"
      ],
      "text/plain": [
       "                   D         C         B         A\n",
       "2013-01-01 -0.318237 -0.638973 -0.389868 -0.402924\n",
       "2013-01-02  1.596370  1.806408  0.474240  0.176802\n",
       "2013-01-03 -0.127799  0.233110 -0.244751  0.912955\n",
       "2013-01-04  0.920995  2.331628  2.718679 -0.704927\n",
       "2013-01-05 -0.705437  1.022162  0.482281 -3.151424\n",
       "2013-01-06  0.164380  0.358509  0.188891 -0.535173"
      ]
     },
     "execution_count": 18,
     "metadata": {},
     "output_type": "execute_result"
    }
   ],
   "source": [
    "#Sorting by an axis\n",
    "df.sort_index(axis=1, ascending=False)\n"
   ]
  },
  {
   "cell_type": "code",
   "execution_count": 19,
   "metadata": {},
   "outputs": [
    {
     "data": {
      "text/html": [
       "<div>\n",
       "<table border=\"1\" class=\"dataframe\">\n",
       "  <thead>\n",
       "    <tr style=\"text-align: right;\">\n",
       "      <th></th>\n",
       "      <th>A</th>\n",
       "      <th>B</th>\n",
       "      <th>C</th>\n",
       "      <th>D</th>\n",
       "    </tr>\n",
       "  </thead>\n",
       "  <tbody>\n",
       "    <tr>\n",
       "      <th>2013-01-01</th>\n",
       "      <td>-0.402924</td>\n",
       "      <td>-0.389868</td>\n",
       "      <td>-0.638973</td>\n",
       "      <td>-0.318237</td>\n",
       "    </tr>\n",
       "    <tr>\n",
       "      <th>2013-01-03</th>\n",
       "      <td>0.912955</td>\n",
       "      <td>-0.244751</td>\n",
       "      <td>0.233110</td>\n",
       "      <td>-0.127799</td>\n",
       "    </tr>\n",
       "    <tr>\n",
       "      <th>2013-01-06</th>\n",
       "      <td>-0.535173</td>\n",
       "      <td>0.188891</td>\n",
       "      <td>0.358509</td>\n",
       "      <td>0.164380</td>\n",
       "    </tr>\n",
       "    <tr>\n",
       "      <th>2013-01-02</th>\n",
       "      <td>0.176802</td>\n",
       "      <td>0.474240</td>\n",
       "      <td>1.806408</td>\n",
       "      <td>1.596370</td>\n",
       "    </tr>\n",
       "    <tr>\n",
       "      <th>2013-01-05</th>\n",
       "      <td>-3.151424</td>\n",
       "      <td>0.482281</td>\n",
       "      <td>1.022162</td>\n",
       "      <td>-0.705437</td>\n",
       "    </tr>\n",
       "    <tr>\n",
       "      <th>2013-01-04</th>\n",
       "      <td>-0.704927</td>\n",
       "      <td>2.718679</td>\n",
       "      <td>2.331628</td>\n",
       "      <td>0.920995</td>\n",
       "    </tr>\n",
       "  </tbody>\n",
       "</table>\n",
       "</div>"
      ],
      "text/plain": [
       "                   A         B         C         D\n",
       "2013-01-01 -0.402924 -0.389868 -0.638973 -0.318237\n",
       "2013-01-03  0.912955 -0.244751  0.233110 -0.127799\n",
       "2013-01-06 -0.535173  0.188891  0.358509  0.164380\n",
       "2013-01-02  0.176802  0.474240  1.806408  1.596370\n",
       "2013-01-05 -3.151424  0.482281  1.022162 -0.705437\n",
       "2013-01-04 -0.704927  2.718679  2.331628  0.920995"
      ]
     },
     "execution_count": 19,
     "metadata": {},
     "output_type": "execute_result"
    }
   ],
   "source": [
    "#Sorting by values\n",
    "df.sort_values(by='B')"
   ]
  },
  {
   "cell_type": "code",
   "execution_count": null,
   "metadata": {
    "collapsed": true
   },
   "outputs": [],
   "source": []
  }
 ],
 "metadata": {
  "kernelspec": {
   "display_name": "test_env",
   "language": "python",
   "name": "test_env"
  },
  "language_info": {
   "codemirror_mode": {
    "name": "ipython",
    "version": 3
   },
   "file_extension": ".py",
   "mimetype": "text/x-python",
   "name": "python",
   "nbconvert_exporter": "python",
   "pygments_lexer": "ipython3",
   "version": "3.4.5"
  }
 },
 "nbformat": 4,
 "nbformat_minor": 2
}
